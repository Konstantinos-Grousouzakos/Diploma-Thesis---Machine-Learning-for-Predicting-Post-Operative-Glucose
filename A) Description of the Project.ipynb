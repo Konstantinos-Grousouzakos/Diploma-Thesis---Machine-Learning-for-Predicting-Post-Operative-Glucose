{
 "cells": [
  {
   "cell_type": "markdown",
   "id": "f4451424",
   "metadata": {},
   "source": [
    "# DESCRIPTION OF THE PROJECT"
   ]
  },
  {
   "cell_type": "markdown",
   "id": "e374ef26",
   "metadata": {},
   "source": [
    "## The need for predicting post operative glucose"
   ]
  },
  {
   "cell_type": "markdown",
   "id": "c163326b",
   "metadata": {},
   "source": [
    "Hyperglycemia is classified into three categories: persistent hyperglycemia, transient hyperglycemia, and stress-induced hyperglycemia. Persistent hyperglycemia is primarily caused by diabetes mellitus, whereas transient hyperglycemia can result from severe systemic conditions such as infections, sepsis, acute myocardial infarction, and glucocorticoid treatment.\n",
    "\n",
    "Stress hyperglycemia, also known as the oxidative stress response, arises from a variety of factors. Generally, when a patient undergoes surgery, the procedure itself causes stress to the body, leading to an increase in blood glucose levels.\n",
    "\n",
    "The most common complications associated with hyperglycemia include surgical wound infections, pneumonia, sepsis, acute kidney injury, acute myocardial infarction, and stroke. These complications are linked to high morbidity and mortality rates.\n",
    "\n",
    "The therapeutic approach for managing postoperative hyperglycemia typically involves administering insulin, either subcutaneously or intravenously. However, there is some debate within the medical community about the optimal glycemic target, though most published literature suggests an upper limit of 180 mg/dL.\n",
    "\n",
    "Therefore, it is deemed beneficial to develop an algorithm capable of accurately predicting postoperative glucose levels to help prevent complications related to hyperglycemia."
   ]
  },
  {
   "cell_type": "markdown",
   "id": "c16462af",
   "metadata": {},
   "source": [
    "## Story behind the Diploma Thesis "
   ]
  },
  {
   "cell_type": "markdown",
   "id": "34ca347b",
   "metadata": {},
   "source": [
    "To complete my education in the Department of Mechanical Engineering at Aristotle University of Thessaloniki, I needed to undertake a diploma thesis. Since I aspire to become a data scientist/analyst, it seemed fitting for my thesis to focus on a data science project.\n",
    "\n",
    "I have a strong interest in the healthcare field, which led me to volunteer as a part-time data scientist/analyst in the Anesthesiology Department at Theagenio Anti-Cancer Hospital. I hoped to make a meaningful contribution to the work of the doctors there. After meeting with the hospital's anesthesiologists, we determined that it would be both meaningful and practically useful to create a model that predicts the postoperative blood glucose levels of patients undergoing thoracic surgeries."
   ]
  },
  {
   "cell_type": "markdown",
   "id": "c23e7d22",
   "metadata": {},
   "source": [
    "## Background"
   ]
  },
  {
   "cell_type": "markdown",
   "id": "84477edd",
   "metadata": {},
   "source": [
    "With the help of the hospital's anesthesiologists, I managed to collect data on 235 patients who underwent thoracic surgery between March 2023 and September 2023. Typically, before an operation, patients undergo a preoperative checkup that gathers information about their general health, medical history, regular medications, habits, and blood test results. The data for my project was extracted from these preoperative checkup folders. "
   ]
  },
  {
   "cell_type": "markdown",
   "id": "3e8e47b1",
   "metadata": {},
   "source": [
    "## Goals of the Diploma Thesis"
   ]
  },
  {
   "cell_type": "markdown",
   "id": "5a7ecece",
   "metadata": {},
   "source": [
    "1. **Build Models:** Develop models to predict postoperative glucose levels.  \n",
    "2. **Compare Models:** Evaluate and compare the performance of the models to determine if one is more efficient than the others. \n",
    "3. **Estimate Feature Importance:** Assess the importance of each feature in the models to understand which factors most significantly impact postoperative glucose predictions.  "
   ]
  },
  {
   "cell_type": "markdown",
   "id": "668afe18",
   "metadata": {},
   "source": [
    "## Methods "
   ]
  },
  {
   "cell_type": "markdown",
   "id": "0fdd438e",
   "metadata": {},
   "source": [
    "* For prediction\n",
    "    1. Linear Regression\n",
    "    2. Bagging Regressor\n",
    "    3. Random Forest Regressor\n",
    "    4. AdaBoost Regressor\n",
    "    5. Support Vector Regression\n",
    "\n",
    "* For Feature Importance\n",
    "    1. SHAP values\n",
    "    2. p-values (in the case of Stepwise Selection Linear Regression)"
   ]
  },
  {
   "cell_type": "markdown",
   "id": "5b848abe",
   "metadata": {},
   "source": [
    "## Performance Evaluation"
   ]
  },
  {
   "cell_type": "markdown",
   "id": "92b3e6af",
   "metadata": {},
   "source": [
    "1. Coefficient of Determination __R^2__\n",
    "2. Training Mean Absolute Error __Training_MAE__\n",
    "3. 5 Fold Cross Validated Mean Absolute Error __Test_MAE(KFold)__\n",
    "4. Test Mean Absolute Error __Test_MAE__"
   ]
  },
  {
   "cell_type": "markdown",
   "id": "54f2f902",
   "metadata": {},
   "source": [
    "## Datasets and Data Dictionary"
   ]
  },
  {
   "cell_type": "markdown",
   "id": "0eac96a7",
   "metadata": {},
   "source": [
    "The dataset of 235 patients is divided into to smaller datasets : The Training Dataset (200 patients) and the Test Dataset (35 patients)"
   ]
  },
  {
   "cell_type": "markdown",
   "id": "b9a37481",
   "metadata": {},
   "source": [
    "1. **Post Operative Glucose**: Quantitative variable. The unit of measurement is milligrams of glucose per deciliter of blood (mg/dL).\n",
    "\n",
    "2. **Sex**: Binary (categorical) variable. It takes the value of 1 if the patient is male and 0 if the patient is female.\n",
    "\n",
    "3. **Age**: Quantitative variable. The unit of measurement is years.\n",
    "\n",
    "4. **Body Mass Index (BMI)**: Quantitative variable. The unit of measurement is kilograms per square meter (kg/m²).\n",
    "\n",
    "5. **Cortisol (Cort)**: Binary (categorical) variable. It takes the value of 1 if cortisol is administered intraoperatively by the anesthesiologist.\n",
    "\n",
    "6. **Pre Operative Fast**: Quantitative variable. The unit of measurement is hours (h). It indicates the hours of fasting of the patient until the surgery was performed.\n",
    "\n",
    "7. **Smoking**: Quantitative variable. The goal is to express the patient's exposure to smoking within a specific time frame. The unit of measurement is pack-years (pack of cigarettes per years of smoking). These units of measurement are used by the medical staff.\n",
    "\n",
    "8. **Pre Operative Glucose**: Quantitative variable. The unit of measurement is milligrams of glucose per deciliter of blood (mg/dL).\n",
    "\n",
    "9. **Lung Ventilation Number (LV)**: Binary (categorical) variable. It classifies based on mechanical ventilation, either one-lung ventilation (OLV) or two-lung ventilation (TLV). It takes the value of 1 when ventilation is done with one lung and 2 when done with two lungs.\n",
    "\n",
    "10. **ASA Physical Status Classification System (ASA)**: Hierarchical (categorical) variable. Its purpose is to categorize patients according to their physical condition. It is a qualitative variable that assesses the health and risk a patient faces when anesthesia is administered and surgery is performed. The values are given by the anesthesiologist who examines the patient during the pre-operative assessment. It takes values from 1 to 5, where 1 means the patient is in excellent condition, and 5 means the patient is in a pre-death state or is an organ donor.\n"
   ]
  },
  {
   "cell_type": "markdown",
   "id": "210a17ea",
   "metadata": {},
   "source": [
    "## Exceptions and Assumptions"
   ]
  },
  {
   "cell_type": "markdown",
   "id": "da45b133",
   "metadata": {},
   "source": [
    "During the data collection process, it was deemed necessary to exclude patients who fall into certain categories from the study. The following are some examples of patients who were excluded:\n",
    "\n",
    "1. **Duplicates**: Each patient was included in the sample only once. This decision was made because having patients with completely identical characteristics (e.g., same age, years of smoking, body mass index) but different glucose values in the training data could be harmful to the models.\n",
    "\n",
    "2. **Patients receiving corticosteroid medication pre-operatively**: These patients were excluded to determine whether the intra-operative administration of cortisol affects the response variable.\n",
    "\n",
    "3. **Patients with diabetes mellitus**: We excluded patients with diabetes mellitus from the sample, as the presence of glucose disorders post-operatively is expected for them. Furthermore, we considered it appropriate to examine whether the models could detect the change in post-operative glucose in patients who are not known to have diabetes mellitus beforehand or in patients who show increased insulin resistance (prediabetes).\n",
    "\n",
    "During the data collection, certain assumptions had to be made regarding some of the variables. The following describes the assumptions that were made:\n",
    "\n",
    "1. **Assumption on Smoking values**: Patients who declare themselves as active smokers within the last 28 days before surgery are defined as smokers, while over 60% of patients relapse within the first year after quitting smoking. The chronic damage caused by smoking significantly increases the likelihood of cardiovascular events, strokes, chronic lung disease, and various forms of cancer, including lung cancer. The chances of acute events begin to decrease significantly after two years of quitting smoking. Therefore, we deemed it appropriate to classify patients who quit smoking more than two years ago as non-smokers since recent cessation does not offer protection for the surgical patient from acute ischemic-type events accompanied by hyperglycemia.\n",
    "\n",
    "2. **Assumption on Pre-Operative Fast values**: The exact start time of pre-operative fasting is not known. According to the relevant guideline of the hospital's medical staff, fasting starts no later than 21:00. Therefore, the values of Pre-Operative Fast are derived from measuring the time from 9 p.m. the night before the surgery until the start time of the surgery. Surgeries start early in the morning, while typically, the last one is a few hours after noon."
   ]
  },
  {
   "cell_type": "markdown",
   "id": "64c1d736",
   "metadata": {},
   "source": [
    "## Jupyter Notebooks"
   ]
  },
  {
   "cell_type": "markdown",
   "id": "9cac6d9d",
   "metadata": {},
   "source": [
    "\n",
    "In **Notebooks B1 and B2**, I perform Exploratory Data Analysis (EDA) on the data and take the necessary steps to prepare the dataset for applying machine learning (ML) methods. I also divide the dataset into training and test sets and create a version of the dataset with outliers removed.\n",
    "\n",
    "In **Notebooks C1 to C5**, I apply the ML methods. In each notebook, I first optimize the model using GridSearchCV, estimate the R² and Mean Absolute Error (MAE), and calculate the SHAP values. I also create graphs to help understand how the model behaves.\n",
    "\n",
    "In **Notebooks D1 to D5**, I repeat the process using the dataset without outliers.\n",
    "\n",
    "In **Notebooks E1 to E3**, I build additional Linear Regression models. Specifically, I construct two models: one that includes interactions among the six most important variables and another that includes interactions among seven variables. Finally, in E3, I optimize the Linear Regression model using Stepwise Selection.\n",
    "\n",
    "In **Notebook F**, you can find all the results aggregated.\n",
    "\n",
    "Finally, in **Notebooks G1 and G2**, I create graphs necessary for explaining some concepts in my thesis.\n",
    "\n"
   ]
  },
  {
   "cell_type": "markdown",
   "id": "15922f3e",
   "metadata": {},
   "source": [
    "## Notes"
   ]
  },
  {
   "cell_type": "markdown",
   "id": "d5a525a9",
   "metadata": {},
   "source": [
    "__Note 1__ : Parts of the code that were omitted from the final draft\n",
    "    1. VIF\n",
    "    2. Residuals vs Response Graphs"
   ]
  },
  {
   "cell_type": "markdown",
   "id": "685b25a6",
   "metadata": {},
   "source": [
    "__Note 2__ : The data were needed scaling "
   ]
  }
 ],
 "metadata": {
  "kernelspec": {
   "display_name": "Python 3 (ipykernel)",
   "language": "python",
   "name": "python3"
  },
  "language_info": {
   "codemirror_mode": {
    "name": "ipython",
    "version": 3
   },
   "file_extension": ".py",
   "mimetype": "text/x-python",
   "name": "python",
   "nbconvert_exporter": "python",
   "pygments_lexer": "ipython3",
   "version": "3.11.5"
  }
 },
 "nbformat": 4,
 "nbformat_minor": 5
}
