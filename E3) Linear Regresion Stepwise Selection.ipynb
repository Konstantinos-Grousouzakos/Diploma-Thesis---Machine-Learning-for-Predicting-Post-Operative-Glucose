{
 "cells": [
  {
   "cell_type": "markdown",
   "id": "fef6780a",
   "metadata": {},
   "source": [
    "# E3. LINEAR REGRESSION(STEPWISE SELECTION)"
   ]
  },
  {
   "cell_type": "markdown",
   "id": "9aee6f0e",
   "metadata": {},
   "source": [
    "__1. Importing Libraries and Datasets__\n",
    "\n",
    "__2. Stepwise Selection__\n",
    "\n",
    "__3. Linear Regression__\n",
    "\n",
    "__4. Model Evaluation : Training Metrics__\n",
    "\n",
    "__5. Model Evaluation : Cross Validation__\n",
    "\n",
    "__6. Model Evaluation : Test Dataset__\n",
    "\n",
    "__7. Residuals' Distribution__\n",
    "\n",
    "__8. Scatterplots with fitted line (Train Dataset)__\n",
    "\n",
    "__9. Saving Results__"
   ]
  },
  {
   "cell_type": "markdown",
   "id": "1fd019b6",
   "metadata": {},
   "source": [
    "## 1.Importing Libraries and Datasets"
   ]
  },
  {
   "cell_type": "code",
   "execution_count": 1,
   "id": "67cb1181",
   "metadata": {},
   "outputs": [],
   "source": [
    "# Libraries\n",
    "\n",
    "import pandas as pd\n",
    "import numpy as np\n",
    "import statsmodels.api as sm\n",
    "import matplotlib.pyplot as plt\n",
    "import seaborn as sns\n",
    "\n",
    "from sklearn.linear_model import LinearRegression\n",
    "from sklearn.model_selection import KFold, cross_val_score\n",
    "from sklearn.model_selection import train_test_split\n",
    "from sklearn.metrics import mean_absolute_error\n",
    "from sklearn.preprocessing import StandardScaler\n",
    "\n",
    "import shap\n",
    "import warnings\n",
    "warnings.simplefilter(action='ignore', category=FutureWarning)\n",
    "\n",
    "pd.set_option('display.max_columns', 100)"
   ]
  },
  {
   "cell_type": "code",
   "execution_count": 2,
   "id": "a9a4d781",
   "metadata": {},
   "outputs": [
    {
     "data": {
      "text/html": [
       "<div>\n",
       "<style scoped>\n",
       "    .dataframe tbody tr th:only-of-type {\n",
       "        vertical-align: middle;\n",
       "    }\n",
       "\n",
       "    .dataframe tbody tr th {\n",
       "        vertical-align: top;\n",
       "    }\n",
       "\n",
       "    .dataframe thead th {\n",
       "        text-align: right;\n",
       "    }\n",
       "</style>\n",
       "<table border=\"1\" class=\"dataframe\">\n",
       "  <thead>\n",
       "    <tr style=\"text-align: right;\">\n",
       "      <th></th>\n",
       "      <th>Age</th>\n",
       "      <th>BMI</th>\n",
       "      <th>Smoking</th>\n",
       "      <th>Pre Operative Fast</th>\n",
       "      <th>Pre Operative Glucose</th>\n",
       "      <th>Sex</th>\n",
       "      <th>Cort</th>\n",
       "      <th>LV</th>\n",
       "      <th>ASA</th>\n",
       "      <th>Post Operative Glucose</th>\n",
       "    </tr>\n",
       "  </thead>\n",
       "  <tbody>\n",
       "    <tr>\n",
       "      <th>0</th>\n",
       "      <td>3.346</td>\n",
       "      <td>4.337</td>\n",
       "      <td>1.549</td>\n",
       "      <td>5.791</td>\n",
       "      <td>7.307</td>\n",
       "      <td>1</td>\n",
       "      <td>1</td>\n",
       "      <td>1</td>\n",
       "      <td>2</td>\n",
       "      <td>129</td>\n",
       "    </tr>\n",
       "  </tbody>\n",
       "</table>\n",
       "</div>"
      ],
      "text/plain": [
       "     Age    BMI  Smoking  Pre Operative Fast  Pre Operative Glucose  Sex  \\\n",
       "0  3.346  4.337    1.549               5.791                  7.307    1   \n",
       "\n",
       "   Cort  LV  ASA  Post Operative Glucose  \n",
       "0     1   1    2                     129  "
      ]
     },
     "execution_count": 2,
     "metadata": {},
     "output_type": "execute_result"
    }
   ],
   "source": [
    "# Train Dataset\n",
    "\n",
    "train_data = pd.read_csv(\"BG_Train_Dataset.csv\") \n",
    "train_df = train_data.copy()\n",
    "train_df.head(1)"
   ]
  },
  {
   "cell_type": "code",
   "execution_count": 3,
   "id": "3431495e",
   "metadata": {},
   "outputs": [
    {
     "data": {
      "text/plain": [
       "(200, 10)"
      ]
     },
     "execution_count": 3,
     "metadata": {},
     "output_type": "execute_result"
    }
   ],
   "source": [
    "# Obtaining the train dataframe shape \n",
    "\n",
    "train_df.shape"
   ]
  },
  {
   "cell_type": "code",
   "execution_count": 4,
   "id": "3de339a6",
   "metadata": {},
   "outputs": [
    {
     "data": {
      "text/html": [
       "<div>\n",
       "<style scoped>\n",
       "    .dataframe tbody tr th:only-of-type {\n",
       "        vertical-align: middle;\n",
       "    }\n",
       "\n",
       "    .dataframe tbody tr th {\n",
       "        vertical-align: top;\n",
       "    }\n",
       "\n",
       "    .dataframe thead th {\n",
       "        text-align: right;\n",
       "    }\n",
       "</style>\n",
       "<table border=\"1\" class=\"dataframe\">\n",
       "  <thead>\n",
       "    <tr style=\"text-align: right;\">\n",
       "      <th></th>\n",
       "      <th>Age</th>\n",
       "      <th>BMI</th>\n",
       "      <th>Smoking</th>\n",
       "      <th>Pre Operative Fast</th>\n",
       "      <th>Pre Operative Glucose</th>\n",
       "      <th>Sex</th>\n",
       "      <th>Cort</th>\n",
       "      <th>LV</th>\n",
       "      <th>ASA</th>\n",
       "      <th>Post Operative Glucose</th>\n",
       "    </tr>\n",
       "  </thead>\n",
       "  <tbody>\n",
       "    <tr>\n",
       "      <th>0</th>\n",
       "      <td>4.165</td>\n",
       "      <td>5.322</td>\n",
       "      <td>0.0</td>\n",
       "      <td>8.05</td>\n",
       "      <td>6.734</td>\n",
       "      <td>0</td>\n",
       "      <td>0</td>\n",
       "      <td>1</td>\n",
       "      <td>3</td>\n",
       "      <td>130</td>\n",
       "    </tr>\n",
       "  </tbody>\n",
       "</table>\n",
       "</div>"
      ],
      "text/plain": [
       "     Age    BMI  Smoking  Pre Operative Fast  Pre Operative Glucose  Sex  \\\n",
       "0  4.165  5.322      0.0                8.05                  6.734    0   \n",
       "\n",
       "   Cort  LV  ASA  Post Operative Glucose  \n",
       "0     0   1    3                     130  "
      ]
     },
     "execution_count": 4,
     "metadata": {},
     "output_type": "execute_result"
    }
   ],
   "source": [
    "# Test Dataset\n",
    "\n",
    "test_data = pd.read_csv(\"BG_Test_Dataset.csv\") \n",
    "test_df = test_data.copy()\n",
    "test_df.head(1)"
   ]
  },
  {
   "cell_type": "code",
   "execution_count": 5,
   "id": "73d5b00c",
   "metadata": {},
   "outputs": [
    {
     "data": {
      "text/plain": [
       "(35, 10)"
      ]
     },
     "execution_count": 5,
     "metadata": {},
     "output_type": "execute_result"
    }
   ],
   "source": [
    "# Obtaining the test dataframe shape \n",
    "\n",
    "test_df.shape"
   ]
  },
  {
   "cell_type": "code",
   "execution_count": 6,
   "id": "465771de",
   "metadata": {
    "scrolled": true
   },
   "outputs": [
    {
     "data": {
      "text/html": [
       "<div>\n",
       "<style scoped>\n",
       "    .dataframe tbody tr th:only-of-type {\n",
       "        vertical-align: middle;\n",
       "    }\n",
       "\n",
       "    .dataframe tbody tr th {\n",
       "        vertical-align: top;\n",
       "    }\n",
       "\n",
       "    .dataframe thead th {\n",
       "        text-align: right;\n",
       "    }\n",
       "</style>\n",
       "<table border=\"1\" class=\"dataframe\">\n",
       "  <thead>\n",
       "    <tr style=\"text-align: right;\">\n",
       "      <th></th>\n",
       "      <th>Age</th>\n",
       "      <th>BMI</th>\n",
       "      <th>Smoking</th>\n",
       "      <th>Pre Operative Fast</th>\n",
       "      <th>Pre Operative Glucose</th>\n",
       "      <th>Sex</th>\n",
       "      <th>Cort</th>\n",
       "      <th>LV</th>\n",
       "      <th>ASA</th>\n",
       "    </tr>\n",
       "  </thead>\n",
       "  <tbody>\n",
       "    <tr>\n",
       "      <th>0</th>\n",
       "      <td>3.346</td>\n",
       "      <td>4.337</td>\n",
       "      <td>1.549</td>\n",
       "      <td>5.791</td>\n",
       "      <td>7.307</td>\n",
       "      <td>1</td>\n",
       "      <td>1</td>\n",
       "      <td>1</td>\n",
       "      <td>2</td>\n",
       "    </tr>\n",
       "  </tbody>\n",
       "</table>\n",
       "</div>"
      ],
      "text/plain": [
       "     Age    BMI  Smoking  Pre Operative Fast  Pre Operative Glucose  Sex  \\\n",
       "0  3.346  4.337    1.549               5.791                  7.307    1   \n",
       "\n",
       "   Cort  LV  ASA  \n",
       "0     1   1    2  "
      ]
     },
     "execution_count": 6,
     "metadata": {},
     "output_type": "execute_result"
    }
   ],
   "source": [
    "# Defining X_train and Y_train\n",
    "\n",
    "Y_train = train_df['Post Operative Glucose']\n",
    "X_train = train_df.drop('Post Operative Glucose', axis = 1)\n",
    "X_train.head(1)"
   ]
  },
  {
   "cell_type": "markdown",
   "id": "09814888",
   "metadata": {},
   "source": [
    "## 2. Stepwise Selection"
   ]
  },
  {
   "cell_type": "code",
   "execution_count": 7,
   "id": "5f4314c6",
   "metadata": {},
   "outputs": [],
   "source": [
    "# Function the performs stepwise selection\n",
    "\n",
    "def stepwise_selection(data, target,SL_in=0.05,SL_out = 0.05):\n",
    "    initial_features = data.columns.tolist()\n",
    "    best_features = []\n",
    "    while (len(initial_features)>0):\n",
    "        remaining_features = list(set(initial_features)-set(best_features))\n",
    "        new_pval = pd.Series(index=remaining_features)\n",
    "        for new_column in remaining_features:\n",
    "            model = sm.OLS(target, sm.add_constant(data[best_features+[new_column]])).fit()\n",
    "            new_pval[new_column] = model.pvalues[new_column]\n",
    "        min_p_value = new_pval.min()\n",
    "        if(min_p_value<SL_in):\n",
    "            best_features.append(new_pval.idxmin())\n",
    "            while(len(best_features)>0):\n",
    "                best_features_with_constant = sm.add_constant(data[best_features])\n",
    "                p_values = sm.OLS(target, best_features_with_constant).fit().pvalues[1:]\n",
    "                max_p_value = p_values.max()\n",
    "                if(max_p_value >= SL_out):\n",
    "                    excluded_feature = p_values.idxmax()\n",
    "                    best_features.remove(excluded_feature)\n",
    "                else:\n",
    "                    break \n",
    "        else:\n",
    "            break\n",
    "    return best_features"
   ]
  },
  {
   "cell_type": "code",
   "execution_count": 8,
   "id": "7a4ce229",
   "metadata": {},
   "outputs": [
    {
     "data": {
      "text/plain": [
       "['Pre Operative Glucose',\n",
       " 'Pre Operative Fast',\n",
       " 'Cort',\n",
       " 'LV',\n",
       " 'Sex',\n",
       " 'Age',\n",
       " 'Smoking']"
      ]
     },
     "execution_count": 8,
     "metadata": {},
     "output_type": "execute_result"
    }
   ],
   "source": [
    "# Which variables are important according to stepwise selection\n",
    "\n",
    "imp_vars = stepwise_selection(X_train, Y_train)\n",
    "imp_vars"
   ]
  },
  {
   "cell_type": "code",
   "execution_count": 9,
   "id": "167452ee",
   "metadata": {},
   "outputs": [],
   "source": [
    "# Keeping only the important variables\n",
    "\n",
    "X_train = X_train[imp_vars]"
   ]
  },
  {
   "cell_type": "code",
   "execution_count": 10,
   "id": "97701a3d",
   "metadata": {},
   "outputs": [
    {
     "data": {
      "text/html": [
       "<div>\n",
       "<style scoped>\n",
       "    .dataframe tbody tr th:only-of-type {\n",
       "        vertical-align: middle;\n",
       "    }\n",
       "\n",
       "    .dataframe tbody tr th {\n",
       "        vertical-align: top;\n",
       "    }\n",
       "\n",
       "    .dataframe thead th {\n",
       "        text-align: right;\n",
       "    }\n",
       "</style>\n",
       "<table border=\"1\" class=\"dataframe\">\n",
       "  <thead>\n",
       "    <tr style=\"text-align: right;\">\n",
       "      <th></th>\n",
       "      <th>Pre Operative Glucose</th>\n",
       "      <th>Pre Operative Fast</th>\n",
       "      <th>Cort</th>\n",
       "      <th>LV</th>\n",
       "      <th>Sex</th>\n",
       "      <th>Age</th>\n",
       "      <th>Smoking</th>\n",
       "    </tr>\n",
       "  </thead>\n",
       "  <tbody>\n",
       "    <tr>\n",
       "      <th>0</th>\n",
       "      <td>7.307</td>\n",
       "      <td>5.791</td>\n",
       "      <td>1</td>\n",
       "      <td>1</td>\n",
       "      <td>1</td>\n",
       "      <td>3.346</td>\n",
       "      <td>1.549</td>\n",
       "    </tr>\n",
       "    <tr>\n",
       "      <th>1</th>\n",
       "      <td>7.952</td>\n",
       "      <td>7.283</td>\n",
       "      <td>0</td>\n",
       "      <td>1</td>\n",
       "      <td>1</td>\n",
       "      <td>4.302</td>\n",
       "      <td>1.647</td>\n",
       "    </tr>\n",
       "    <tr>\n",
       "      <th>2</th>\n",
       "      <td>6.949</td>\n",
       "      <td>5.750</td>\n",
       "      <td>0</td>\n",
       "      <td>1</td>\n",
       "      <td>0</td>\n",
       "      <td>4.097</td>\n",
       "      <td>0.675</td>\n",
       "    </tr>\n",
       "    <tr>\n",
       "      <th>3</th>\n",
       "      <td>6.376</td>\n",
       "      <td>6.731</td>\n",
       "      <td>0</td>\n",
       "      <td>1</td>\n",
       "      <td>1</td>\n",
       "      <td>3.892</td>\n",
       "      <td>0.000</td>\n",
       "    </tr>\n",
       "    <tr>\n",
       "      <th>4</th>\n",
       "      <td>6.519</td>\n",
       "      <td>5.791</td>\n",
       "      <td>0</td>\n",
       "      <td>1</td>\n",
       "      <td>1</td>\n",
       "      <td>3.687</td>\n",
       "      <td>0.000</td>\n",
       "    </tr>\n",
       "  </tbody>\n",
       "</table>\n",
       "</div>"
      ],
      "text/plain": [
       "   Pre Operative Glucose  Pre Operative Fast  Cort  LV  Sex    Age  Smoking\n",
       "0                  7.307               5.791     1   1    1  3.346    1.549\n",
       "1                  7.952               7.283     0   1    1  4.302    1.647\n",
       "2                  6.949               5.750     0   1    0  4.097    0.675\n",
       "3                  6.376               6.731     0   1    1  3.892    0.000\n",
       "4                  6.519               5.791     0   1    1  3.687    0.000"
      ]
     },
     "execution_count": 10,
     "metadata": {},
     "output_type": "execute_result"
    }
   ],
   "source": [
    "# Displaying X_train\n",
    "\n",
    "X_train.head()"
   ]
  },
  {
   "cell_type": "markdown",
   "id": "30081be4",
   "metadata": {},
   "source": [
    "## 3. Linear Regression"
   ]
  },
  {
   "cell_type": "code",
   "execution_count": 11,
   "id": "65c9f49e",
   "metadata": {},
   "outputs": [
    {
     "data": {
      "text/html": [
       "<div>\n",
       "<style scoped>\n",
       "    .dataframe tbody tr th:only-of-type {\n",
       "        vertical-align: middle;\n",
       "    }\n",
       "\n",
       "    .dataframe tbody tr th {\n",
       "        vertical-align: top;\n",
       "    }\n",
       "\n",
       "    .dataframe thead th {\n",
       "        text-align: right;\n",
       "    }\n",
       "</style>\n",
       "<table border=\"1\" class=\"dataframe\">\n",
       "  <thead>\n",
       "    <tr style=\"text-align: right;\">\n",
       "      <th></th>\n",
       "      <th>const</th>\n",
       "      <th>Pre Operative Glucose</th>\n",
       "      <th>Pre Operative Fast</th>\n",
       "      <th>Cort</th>\n",
       "      <th>LV</th>\n",
       "      <th>Sex</th>\n",
       "      <th>Age</th>\n",
       "      <th>Smoking</th>\n",
       "    </tr>\n",
       "  </thead>\n",
       "  <tbody>\n",
       "    <tr>\n",
       "      <th>0</th>\n",
       "      <td>1.0</td>\n",
       "      <td>7.307</td>\n",
       "      <td>5.791</td>\n",
       "      <td>1</td>\n",
       "      <td>1</td>\n",
       "      <td>1</td>\n",
       "      <td>3.346</td>\n",
       "      <td>1.549</td>\n",
       "    </tr>\n",
       "  </tbody>\n",
       "</table>\n",
       "</div>"
      ],
      "text/plain": [
       "   const  Pre Operative Glucose  Pre Operative Fast  Cort  LV  Sex    Age  \\\n",
       "0    1.0                  7.307               5.791     1   1    1  3.346   \n",
       "\n",
       "   Smoking  \n",
       "0    1.549  "
      ]
     },
     "execution_count": 11,
     "metadata": {},
     "output_type": "execute_result"
    }
   ],
   "source": [
    "# Adding constant\n",
    "\n",
    "X_train_with_constant = sm.add_constant(X_train)\n",
    "X_train_with_constant.head(1)"
   ]
  },
  {
   "cell_type": "code",
   "execution_count": 12,
   "id": "c4376a74",
   "metadata": {
    "scrolled": false
   },
   "outputs": [
    {
     "name": "stdout",
     "output_type": "stream",
     "text": [
      "                              OLS Regression Results                              \n",
      "==================================================================================\n",
      "Dep. Variable:     Post Operative Glucose   R-squared:                       0.428\n",
      "Model:                                OLS   Adj. R-squared:                  0.407\n",
      "Method:                     Least Squares   F-statistic:                     20.49\n",
      "Date:                    Wed, 24 Jul 2024   Prob (F-statistic):           1.94e-20\n",
      "Time:                            14:15:37   Log-Likelihood:                -929.00\n",
      "No. Observations:                     200   AIC:                             1874.\n",
      "Df Residuals:                         192   BIC:                             1900.\n",
      "Df Model:                               7                                         \n",
      "Covariance Type:                nonrobust                                         \n",
      "=========================================================================================\n",
      "                            coef    std err          t      P>|t|      [0.025      0.975]\n",
      "-----------------------------------------------------------------------------------------\n",
      "const                    96.4811     19.796      4.874      0.000      57.436     135.526\n",
      "Pre Operative Glucose    13.2752      1.922      6.906      0.000       9.484      17.067\n",
      "Pre Operative Fast       -8.3069      1.830     -4.540      0.000     -11.916      -4.698\n",
      "Cort                     19.5299      4.262      4.582      0.000      11.123      27.936\n",
      "LV                      -20.1950      5.923     -3.410      0.001     -31.877      -8.513\n",
      "Sex                      -8.6478      3.968     -2.179      0.031     -16.475      -0.821\n",
      "Age                       6.0914      2.012      3.028      0.003       2.124      10.059\n",
      "Smoking                  -3.8367      1.920     -1.998      0.047      -7.624      -0.049\n",
      "==============================================================================\n",
      "Omnibus:                      127.912   Durbin-Watson:                   1.842\n",
      "Prob(Omnibus):                  0.000   Jarque-Bera (JB):             1211.787\n",
      "Skew:                           2.306   Prob(JB):                    7.31e-264\n",
      "Kurtosis:                      14.142   Cond. No.                         121.\n",
      "==============================================================================\n",
      "\n",
      "Notes:\n",
      "[1] Standard Errors assume that the covariance matrix of the errors is correctly specified.\n"
     ]
    }
   ],
   "source": [
    "# Fitting the model and printing summary\n",
    "\n",
    "MLRmodel = sm.OLS(Y_train, X_train_with_constant).fit()\n",
    "print(MLRmodel.summary())"
   ]
  },
  {
   "cell_type": "markdown",
   "id": "05178102",
   "metadata": {},
   "source": [
    "## 4. Model Evaluation : Training Metrics"
   ]
  },
  {
   "cell_type": "code",
   "execution_count": 13,
   "id": "c2e3f167",
   "metadata": {},
   "outputs": [],
   "source": [
    "# Getting predictions and training error metrics \n",
    "\n",
    "MLRpredictions = MLRmodel.predict(X_train_with_constant)\n",
    "\n",
    "MLR_Tr_MAE = np.round(mean_absolute_error(Y_train, MLRpredictions),2)"
   ]
  },
  {
   "cell_type": "code",
   "execution_count": 14,
   "id": "cc99d9f6",
   "metadata": {},
   "outputs": [],
   "source": [
    "# Dictionary that holds the information of R^2, adjusted R^2, F-statistic value, number of predictors \n",
    "# and training error metric values \n",
    "\n",
    "dict1 = {'Linear Regression (Stepwise Selection)': (np.round(MLRmodel.rsquared,3),np.round(MLRmodel.rsquared_adj,3), \n",
    "                 np.round(MLRmodel.fvalue,2), \n",
    "                 np.round(len(X_train.columns),3),\n",
    "                 MLR_Tr_MAE)}"
   ]
  },
  {
   "cell_type": "code",
   "execution_count": 15,
   "id": "bcc7865d",
   "metadata": {},
   "outputs": [],
   "source": [
    "# Creating a dataframe to easily present the results \n",
    "\n",
    "Training_metric_df = pd.DataFrame(dict1, index=['R^2','adj.R^2','F-stat', \n",
    "                                               'Num_of_Feats', 'Tr_MAE'])"
   ]
  },
  {
   "cell_type": "code",
   "execution_count": 16,
   "id": "40c3851d",
   "metadata": {},
   "outputs": [
    {
     "data": {
      "text/html": [
       "<div>\n",
       "<style scoped>\n",
       "    .dataframe tbody tr th:only-of-type {\n",
       "        vertical-align: middle;\n",
       "    }\n",
       "\n",
       "    .dataframe tbody tr th {\n",
       "        vertical-align: top;\n",
       "    }\n",
       "\n",
       "    .dataframe thead th {\n",
       "        text-align: right;\n",
       "    }\n",
       "</style>\n",
       "<table border=\"1\" class=\"dataframe\">\n",
       "  <thead>\n",
       "    <tr style=\"text-align: right;\">\n",
       "      <th></th>\n",
       "      <th>Linear Regression (Stepwise Selection)</th>\n",
       "    </tr>\n",
       "  </thead>\n",
       "  <tbody>\n",
       "    <tr>\n",
       "      <th>R^2</th>\n",
       "      <td>0.428</td>\n",
       "    </tr>\n",
       "    <tr>\n",
       "      <th>adj.R^2</th>\n",
       "      <td>0.407</td>\n",
       "    </tr>\n",
       "    <tr>\n",
       "      <th>F-stat</th>\n",
       "      <td>20.490</td>\n",
       "    </tr>\n",
       "    <tr>\n",
       "      <th>Num_of_Feats</th>\n",
       "      <td>7.000</td>\n",
       "    </tr>\n",
       "    <tr>\n",
       "      <th>Tr_MAE</th>\n",
       "      <td>17.620</td>\n",
       "    </tr>\n",
       "  </tbody>\n",
       "</table>\n",
       "</div>"
      ],
      "text/plain": [
       "              Linear Regression (Stepwise Selection)\n",
       "R^2                                            0.428\n",
       "adj.R^2                                        0.407\n",
       "F-stat                                        20.490\n",
       "Num_of_Feats                                   7.000\n",
       "Tr_MAE                                        17.620"
      ]
     },
     "execution_count": 16,
     "metadata": {},
     "output_type": "execute_result"
    }
   ],
   "source": [
    "# Displaying the training evaluation metrics\n",
    "\n",
    "Training_metric_df"
   ]
  },
  {
   "cell_type": "markdown",
   "id": "d07ea654",
   "metadata": {},
   "source": [
    "## 5. Model Evaluation : Cross Validation"
   ]
  },
  {
   "cell_type": "code",
   "execution_count": 17,
   "id": "a4e69375",
   "metadata": {},
   "outputs": [],
   "source": [
    "# Using the KFold function for cross-validation\n",
    "\n",
    "cv = KFold(n_splits = 5, shuffle = True, random_state = 126)"
   ]
  },
  {
   "cell_type": "code",
   "execution_count": 18,
   "id": "877566e7",
   "metadata": {},
   "outputs": [],
   "source": [
    "# Function that calculates the cross validated test MAE \n",
    "\n",
    "def cv_scores(X,Y, model,cv):\n",
    "        \n",
    "    cv_MAE = round(np.mean(cross_val_score(model, X, Y, cv=cv, \n",
    "                                       scoring='neg_mean_absolute_error', \n",
    "                                           error_score='raise') * (-1)),2)\n",
    "\n",
    "    \n",
    "    score = cv_MAE\n",
    "    return score"
   ]
  },
  {
   "cell_type": "code",
   "execution_count": 19,
   "id": "b3349f75",
   "metadata": {},
   "outputs": [],
   "source": [
    "# Dictionary that holds the information of the cross validated test MAE \n",
    "\n",
    "dict2 = {'Linear Regression (Stepwise Selection)':cv_scores(X_train,Y_train,LinearRegression(),cv)}"
   ]
  },
  {
   "cell_type": "code",
   "execution_count": 20,
   "id": "fa22c9ca",
   "metadata": {},
   "outputs": [],
   "source": [
    "# Creating a dataframe to easily present the results \n",
    "\n",
    "Test_CV_results = pd.DataFrame(dict2, index=['Te_MAE (KFold)'])"
   ]
  },
  {
   "cell_type": "code",
   "execution_count": 21,
   "id": "8ab0ce15",
   "metadata": {
    "scrolled": true
   },
   "outputs": [
    {
     "data": {
      "text/html": [
       "<div>\n",
       "<style scoped>\n",
       "    .dataframe tbody tr th:only-of-type {\n",
       "        vertical-align: middle;\n",
       "    }\n",
       "\n",
       "    .dataframe tbody tr th {\n",
       "        vertical-align: top;\n",
       "    }\n",
       "\n",
       "    .dataframe thead th {\n",
       "        text-align: right;\n",
       "    }\n",
       "</style>\n",
       "<table border=\"1\" class=\"dataframe\">\n",
       "  <thead>\n",
       "    <tr style=\"text-align: right;\">\n",
       "      <th></th>\n",
       "      <th>Linear Regression (Stepwise Selection)</th>\n",
       "    </tr>\n",
       "  </thead>\n",
       "  <tbody>\n",
       "    <tr>\n",
       "      <th>Te_MAE (KFold)</th>\n",
       "      <td>18.45</td>\n",
       "    </tr>\n",
       "  </tbody>\n",
       "</table>\n",
       "</div>"
      ],
      "text/plain": [
       "                Linear Regression (Stepwise Selection)\n",
       "Te_MAE (KFold)                                   18.45"
      ]
     },
     "execution_count": 21,
     "metadata": {},
     "output_type": "execute_result"
    }
   ],
   "source": [
    "# Displaying the cross validated test error results\n",
    "\n",
    "Test_CV_results"
   ]
  },
  {
   "cell_type": "markdown",
   "id": "be08ef0f",
   "metadata": {},
   "source": [
    "## 6. Model Evaluation : Test Dataset"
   ]
  },
  {
   "cell_type": "code",
   "execution_count": 22,
   "id": "fa67844c",
   "metadata": {},
   "outputs": [
    {
     "data": {
      "text/html": [
       "<div>\n",
       "<style scoped>\n",
       "    .dataframe tbody tr th:only-of-type {\n",
       "        vertical-align: middle;\n",
       "    }\n",
       "\n",
       "    .dataframe tbody tr th {\n",
       "        vertical-align: top;\n",
       "    }\n",
       "\n",
       "    .dataframe thead th {\n",
       "        text-align: right;\n",
       "    }\n",
       "</style>\n",
       "<table border=\"1\" class=\"dataframe\">\n",
       "  <thead>\n",
       "    <tr style=\"text-align: right;\">\n",
       "      <th></th>\n",
       "      <th>Age</th>\n",
       "      <th>BMI</th>\n",
       "      <th>Smoking</th>\n",
       "      <th>Pre Operative Fast</th>\n",
       "      <th>Pre Operative Glucose</th>\n",
       "      <th>Sex</th>\n",
       "      <th>Cort</th>\n",
       "      <th>LV</th>\n",
       "      <th>ASA</th>\n",
       "    </tr>\n",
       "  </thead>\n",
       "  <tbody>\n",
       "    <tr>\n",
       "      <th>0</th>\n",
       "      <td>4.165</td>\n",
       "      <td>5.322</td>\n",
       "      <td>0.0</td>\n",
       "      <td>8.05</td>\n",
       "      <td>6.734</td>\n",
       "      <td>0</td>\n",
       "      <td>0</td>\n",
       "      <td>1</td>\n",
       "      <td>3</td>\n",
       "    </tr>\n",
       "  </tbody>\n",
       "</table>\n",
       "</div>"
      ],
      "text/plain": [
       "     Age    BMI  Smoking  Pre Operative Fast  Pre Operative Glucose  Sex  \\\n",
       "0  4.165  5.322      0.0                8.05                  6.734    0   \n",
       "\n",
       "   Cort  LV  ASA  \n",
       "0     0   1    3  "
      ]
     },
     "execution_count": 22,
     "metadata": {},
     "output_type": "execute_result"
    }
   ],
   "source": [
    "# Defining X_test and Y_test\n",
    "\n",
    "Y_test = test_df['Post Operative Glucose']\n",
    "X_test = test_df.drop('Post Operative Glucose', axis = 1)\n",
    "X_test.head(1)"
   ]
  },
  {
   "cell_type": "code",
   "execution_count": 23,
   "id": "f99d34fe",
   "metadata": {},
   "outputs": [
    {
     "data": {
      "text/html": [
       "<div>\n",
       "<style scoped>\n",
       "    .dataframe tbody tr th:only-of-type {\n",
       "        vertical-align: middle;\n",
       "    }\n",
       "\n",
       "    .dataframe tbody tr th {\n",
       "        vertical-align: top;\n",
       "    }\n",
       "\n",
       "    .dataframe thead th {\n",
       "        text-align: right;\n",
       "    }\n",
       "</style>\n",
       "<table border=\"1\" class=\"dataframe\">\n",
       "  <thead>\n",
       "    <tr style=\"text-align: right;\">\n",
       "      <th></th>\n",
       "      <th>Pre Operative Glucose</th>\n",
       "      <th>Pre Operative Fast</th>\n",
       "      <th>Cort</th>\n",
       "      <th>LV</th>\n",
       "      <th>Sex</th>\n",
       "      <th>Age</th>\n",
       "      <th>Smoking</th>\n",
       "    </tr>\n",
       "  </thead>\n",
       "  <tbody>\n",
       "    <tr>\n",
       "      <th>0</th>\n",
       "      <td>6.734</td>\n",
       "      <td>8.050</td>\n",
       "      <td>0</td>\n",
       "      <td>1</td>\n",
       "      <td>0</td>\n",
       "      <td>4.165</td>\n",
       "      <td>0.000</td>\n",
       "    </tr>\n",
       "    <tr>\n",
       "      <th>1</th>\n",
       "      <td>6.089</td>\n",
       "      <td>7.922</td>\n",
       "      <td>0</td>\n",
       "      <td>1</td>\n",
       "      <td>0</td>\n",
       "      <td>5.326</td>\n",
       "      <td>2.866</td>\n",
       "    </tr>\n",
       "    <tr>\n",
       "      <th>2</th>\n",
       "      <td>8.453</td>\n",
       "      <td>5.709</td>\n",
       "      <td>0</td>\n",
       "      <td>1</td>\n",
       "      <td>1</td>\n",
       "      <td>4.848</td>\n",
       "      <td>0.000</td>\n",
       "    </tr>\n",
       "    <tr>\n",
       "      <th>3</th>\n",
       "      <td>7.092</td>\n",
       "      <td>5.709</td>\n",
       "      <td>0</td>\n",
       "      <td>1</td>\n",
       "      <td>1</td>\n",
       "      <td>5.189</td>\n",
       "      <td>0.000</td>\n",
       "    </tr>\n",
       "    <tr>\n",
       "      <th>4</th>\n",
       "      <td>8.023</td>\n",
       "      <td>5.791</td>\n",
       "      <td>0</td>\n",
       "      <td>1</td>\n",
       "      <td>0</td>\n",
       "      <td>3.824</td>\n",
       "      <td>0.000</td>\n",
       "    </tr>\n",
       "  </tbody>\n",
       "</table>\n",
       "</div>"
      ],
      "text/plain": [
       "   Pre Operative Glucose  Pre Operative Fast  Cort  LV  Sex    Age  Smoking\n",
       "0                  6.734               8.050     0   1    0  4.165    0.000\n",
       "1                  6.089               7.922     0   1    0  5.326    2.866\n",
       "2                  8.453               5.709     0   1    1  4.848    0.000\n",
       "3                  7.092               5.709     0   1    1  5.189    0.000\n",
       "4                  8.023               5.791     0   1    0  3.824    0.000"
      ]
     },
     "execution_count": 23,
     "metadata": {},
     "output_type": "execute_result"
    }
   ],
   "source": [
    "X_test = X_test[imp_vars]\n",
    "X_test.head()"
   ]
  },
  {
   "cell_type": "code",
   "execution_count": 24,
   "id": "a528a024",
   "metadata": {},
   "outputs": [],
   "source": [
    "# Adding constant\n",
    "\n",
    "X_test_with_constant = sm.add_constant(X_test)"
   ]
  },
  {
   "cell_type": "code",
   "execution_count": 25,
   "id": "534d5884",
   "metadata": {},
   "outputs": [],
   "source": [
    "# Getting predictions\n",
    "\n",
    "MLR_predictions = MLRmodel.predict(X_test_with_constant)"
   ]
  },
  {
   "cell_type": "code",
   "execution_count": 26,
   "id": "20a87501",
   "metadata": {},
   "outputs": [],
   "source": [
    "# Getting Test Metrics\n",
    "\n",
    "MLR_Te_MAE = round(mean_absolute_error(Y_test, MLR_predictions),2)"
   ]
  },
  {
   "cell_type": "code",
   "execution_count": 27,
   "id": "e0ae112a",
   "metadata": {},
   "outputs": [],
   "source": [
    "# Dictionary that holds the information of test MAE \n",
    "\n",
    "dict3 = {'Linear Regression (Stepwise Selection)':[MLR_Te_MAE]}"
   ]
  },
  {
   "cell_type": "code",
   "execution_count": 28,
   "id": "acfdbb18",
   "metadata": {},
   "outputs": [],
   "source": [
    "# Creating a dataframe to easily present the results \n",
    "\n",
    "Test_Dat_results = pd.DataFrame(dict3, index=['Te_MAE'])"
   ]
  },
  {
   "cell_type": "code",
   "execution_count": 29,
   "id": "a4e99547",
   "metadata": {
    "scrolled": true
   },
   "outputs": [
    {
     "data": {
      "text/html": [
       "<div>\n",
       "<style scoped>\n",
       "    .dataframe tbody tr th:only-of-type {\n",
       "        vertical-align: middle;\n",
       "    }\n",
       "\n",
       "    .dataframe tbody tr th {\n",
       "        vertical-align: top;\n",
       "    }\n",
       "\n",
       "    .dataframe thead th {\n",
       "        text-align: right;\n",
       "    }\n",
       "</style>\n",
       "<table border=\"1\" class=\"dataframe\">\n",
       "  <thead>\n",
       "    <tr style=\"text-align: right;\">\n",
       "      <th></th>\n",
       "      <th>Linear Regression (Stepwise Selection)</th>\n",
       "    </tr>\n",
       "  </thead>\n",
       "  <tbody>\n",
       "    <tr>\n",
       "      <th>Te_MAE</th>\n",
       "      <td>19.81</td>\n",
       "    </tr>\n",
       "  </tbody>\n",
       "</table>\n",
       "</div>"
      ],
      "text/plain": [
       "        Linear Regression (Stepwise Selection)\n",
       "Te_MAE                                   19.81"
      ]
     },
     "execution_count": 29,
     "metadata": {},
     "output_type": "execute_result"
    }
   ],
   "source": [
    "# Displaying the test error results\n",
    "\n",
    "Test_Dat_results"
   ]
  },
  {
   "cell_type": "markdown",
   "id": "1b79c0ae",
   "metadata": {},
   "source": [
    "## 7. Residuals' Distribution"
   ]
  },
  {
   "cell_type": "code",
   "execution_count": 30,
   "id": "8c1038e6",
   "metadata": {},
   "outputs": [],
   "source": [
    "# model fitted values\n",
    "\n",
    "fitted_y1 = MLRmodel.fittedvalues\n",
    "\n",
    "# model residuals\n",
    "residuals1 = MLRmodel.resid"
   ]
  },
  {
   "cell_type": "code",
   "execution_count": 31,
   "id": "2ea956aa",
   "metadata": {},
   "outputs": [],
   "source": [
    "color = 'red'"
   ]
  },
  {
   "cell_type": "code",
   "execution_count": 32,
   "id": "95c58540",
   "metadata": {
    "scrolled": false
   },
   "outputs": [
    {
     "data": {
      "image/png": "[encoded data removed]",
      "text/plain": [
       "<Figure size 500x400 with 1 Axes>"
      ]
     },
     "metadata": {},
     "output_type": "display_data"
    }
   ],
   "source": [
    "# Histogram of residuals \n",
    "\n",
    "sns.set_style(\"white\")\n",
    "    \n",
    "plt.figure(figsize=(5,4))\n",
    "    \n",
    "plt.hist(residuals1, bins = 15, color = color)\n",
    "    \n",
    "plt.title(label = \"Distribution of Residuals (Linear Regression [Stepwise Selection])\" , fontsize = 14, weight = 'bold')\n",
    "    \n",
    "sns.despine()\n",
    "    \n",
    "plt.show()"
   ]
  },
  {
   "cell_type": "markdown",
   "id": "03a74009",
   "metadata": {},
   "source": [
    "## 8. Scatterplots with fitted line (Train Dataset)"
   ]
  },
  {
   "cell_type": "code",
   "execution_count": 33,
   "id": "05f3e6a2",
   "metadata": {
    "scrolled": false
   },
   "outputs": [
    {
     "data": {
      "image/png": "[encoded data removed]",
      "text/plain": [
       "<Figure size 500x400 with 1 Axes>"
      ]
     },
     "metadata": {},
     "output_type": "display_data"
    }
   ],
   "source": [
    "# Plotting predictions vs response \n",
    "\n",
    "sns.set_style(\"white\")\n",
    "\n",
    "plt.figure(figsize=(5,4))\n",
    "\n",
    "plt.plot(MLRpredictions, Y_train, 'o', color = color)\n",
    "\n",
    "# Uncomment the following lines to add a fitted line\n",
    "# b,a = np.polyfit(MLRpredictions, Y_train, 1)\n",
    "\n",
    "# plt.plot(MLRpredictions, b*MLRpredictions + a, color = 'black')\n",
    "\n",
    "plt.title(label = 'Predictions vs Response (Linear Regression [Stepwise Selection])', fontsize = 14, weight = 'bold')\n",
    "plt.xlabel('Predictions',fontsize = 14, weight = 'bold')\n",
    "plt.ylabel('Response',fontsize = 14, weight = 'bold')\n",
    "\n",
    "plt.xlim(70, 330)\n",
    "plt.ylim(70, 330)\n",
    "\n",
    "plt.show()"
   ]
  },
  {
   "cell_type": "markdown",
   "id": "321a515c",
   "metadata": {},
   "source": [
    "## 9. Saving Results"
   ]
  },
  {
   "cell_type": "code",
   "execution_count": 34,
   "id": "af9fa6d6",
   "metadata": {},
   "outputs": [
    {
     "data": {
      "text/html": [
       "<div>\n",
       "<style scoped>\n",
       "    .dataframe tbody tr th:only-of-type {\n",
       "        vertical-align: middle;\n",
       "    }\n",
       "\n",
       "    .dataframe tbody tr th {\n",
       "        vertical-align: top;\n",
       "    }\n",
       "\n",
       "    .dataframe thead th {\n",
       "        text-align: right;\n",
       "    }\n",
       "</style>\n",
       "<table border=\"1\" class=\"dataframe\">\n",
       "  <thead>\n",
       "    <tr style=\"text-align: right;\">\n",
       "      <th></th>\n",
       "      <th>Linear Regression (Stepwise Selection)</th>\n",
       "    </tr>\n",
       "  </thead>\n",
       "  <tbody>\n",
       "    <tr>\n",
       "      <th>R^2</th>\n",
       "      <td>0.428</td>\n",
       "    </tr>\n",
       "    <tr>\n",
       "      <th>adj.R^2</th>\n",
       "      <td>0.407</td>\n",
       "    </tr>\n",
       "    <tr>\n",
       "      <th>F-stat</th>\n",
       "      <td>20.490</td>\n",
       "    </tr>\n",
       "    <tr>\n",
       "      <th>Num_of_Feats</th>\n",
       "      <td>7.000</td>\n",
       "    </tr>\n",
       "    <tr>\n",
       "      <th>Tr_MAE</th>\n",
       "      <td>17.620</td>\n",
       "    </tr>\n",
       "    <tr>\n",
       "      <th>Te_MAE (KFold)</th>\n",
       "      <td>18.450</td>\n",
       "    </tr>\n",
       "    <tr>\n",
       "      <th>Te_MAE</th>\n",
       "      <td>19.810</td>\n",
       "    </tr>\n",
       "  </tbody>\n",
       "</table>\n",
       "</div>"
      ],
      "text/plain": [
       "                Linear Regression (Stepwise Selection)\n",
       "R^2                                              0.428\n",
       "adj.R^2                                          0.407\n",
       "F-stat                                          20.490\n",
       "Num_of_Feats                                     7.000\n",
       "Tr_MAE                                          17.620\n",
       "Te_MAE (KFold)                                  18.450\n",
       "Te_MAE                                          19.810"
      ]
     },
     "execution_count": 34,
     "metadata": {},
     "output_type": "execute_result"
    }
   ],
   "source": [
    "# Concatenating the training and test Dataframes\n",
    "\n",
    "LinearModelsResults = pd.concat([Training_metric_df, Test_CV_results,Test_Dat_results], axis =  0)\n",
    "LinearModelsResults"
   ]
  },
  {
   "cell_type": "code",
   "execution_count": 35,
   "id": "b92e2c9b",
   "metadata": {},
   "outputs": [],
   "source": [
    "# Saving the Results\n",
    "\n",
    "LinearModelsResults.to_csv(r'LinearModelsResultsStepwiseSelection.csv', index=True, index_label = 'Metric')"
   ]
  }
 ],
 "metadata": {
  "kernelspec": {
   "display_name": "Python 3 (ipykernel)",
   "language": "python",
   "name": "python3"
  },
  "language_info": {
   "codemirror_mode": {
    "name": "ipython",
    "version": 3
   },
   "file_extension": ".py",
   "mimetype": "text/x-python",
   "name": "python",
   "nbconvert_exporter": "python",
   "pygments_lexer": "ipython3",
   "version": "3.11.5"
  }
 },
 "nbformat": 4,
 "nbformat_minor": 5
}
