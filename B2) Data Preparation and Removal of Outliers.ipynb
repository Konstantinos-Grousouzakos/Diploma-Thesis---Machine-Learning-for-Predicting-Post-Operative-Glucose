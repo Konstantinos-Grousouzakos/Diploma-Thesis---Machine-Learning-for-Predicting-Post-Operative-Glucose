{
 "cells": [
  {
   "cell_type": "markdown",
   "id": "00927e1d",
   "metadata": {},
   "source": [
    "# B2. DATA PREPARATION AND REMOVAL OF OUTLIERS"
   ]
  },
  {
   "cell_type": "markdown",
   "id": "80a77921",
   "metadata": {},
   "source": [
    "__2.1 Importing Libraries and Dataset__\n",
    "\n",
    "__2.2 Removing Outliers__\n",
    "    \n",
    "__2.3 Scaling the Datasets__\n",
    "\n",
    "__2.4 Saving the Datasets__"
   ]
  },
  {
   "cell_type": "markdown",
   "id": "92c3620b",
   "metadata": {},
   "source": [
    "## 2.1 Importing Libraries and Dataset"
   ]
  },
  {
   "cell_type": "code",
   "execution_count": 1,
   "id": "c37f01ed",
   "metadata": {},
   "outputs": [],
   "source": [
    "# Libraries\n",
    "\n",
    "import pandas as pd\n",
    "import numpy as np\n",
    "from sklearn.neighbors import LocalOutlierFactor\n",
    "from sklearn.preprocessing import StandardScaler\n",
    "import warnings\n",
    "\n",
    "warnings.simplefilter(action='ignore', category = FutureWarning)\n",
    "warnings.filterwarnings('ignore')\n",
    "\n",
    "pd.set_option('display.max_columns', 100)"
   ]
  },
  {
   "cell_type": "code",
   "execution_count": 2,
   "id": "e5e45585",
   "metadata": {
    "scrolled": true
   },
   "outputs": [
    {
     "data": {
      "text/html": [
       "<div>\n",
       "<style scoped>\n",
       "    .dataframe tbody tr th:only-of-type {\n",
       "        vertical-align: middle;\n",
       "    }\n",
       "\n",
       "    .dataframe tbody tr th {\n",
       "        vertical-align: top;\n",
       "    }\n",
       "\n",
       "    .dataframe thead th {\n",
       "        text-align: right;\n",
       "    }\n",
       "</style>\n",
       "<table border=\"1\" class=\"dataframe\">\n",
       "  <thead>\n",
       "    <tr style=\"text-align: right;\">\n",
       "      <th></th>\n",
       "      <th>Post Operative Glucose</th>\n",
       "      <th>Sex</th>\n",
       "      <th>Age</th>\n",
       "      <th>BMI</th>\n",
       "      <th>Smoking</th>\n",
       "      <th>Pre Operative Fast</th>\n",
       "      <th>Cort</th>\n",
       "      <th>Pre Operative Glucose</th>\n",
       "      <th>LV</th>\n",
       "      <th>ASA</th>\n",
       "    </tr>\n",
       "  </thead>\n",
       "  <tbody>\n",
       "    <tr>\n",
       "      <th>0</th>\n",
       "      <td>114</td>\n",
       "      <td>1</td>\n",
       "      <td>64</td>\n",
       "      <td>22.49</td>\n",
       "      <td>0.0</td>\n",
       "      <td>13.92</td>\n",
       "      <td>0</td>\n",
       "      <td>111</td>\n",
       "      <td>2</td>\n",
       "      <td>3</td>\n",
       "    </tr>\n",
       "    <tr>\n",
       "      <th>1</th>\n",
       "      <td>140</td>\n",
       "      <td>0</td>\n",
       "      <td>25</td>\n",
       "      <td>21.97</td>\n",
       "      <td>0.0</td>\n",
       "      <td>12.00</td>\n",
       "      <td>1</td>\n",
       "      <td>85</td>\n",
       "      <td>2</td>\n",
       "      <td>2</td>\n",
       "    </tr>\n",
       "    <tr>\n",
       "      <th>2</th>\n",
       "      <td>199</td>\n",
       "      <td>0</td>\n",
       "      <td>53</td>\n",
       "      <td>18.90</td>\n",
       "      <td>0.0</td>\n",
       "      <td>15.00</td>\n",
       "      <td>1</td>\n",
       "      <td>106</td>\n",
       "      <td>1</td>\n",
       "      <td>2</td>\n",
       "    </tr>\n",
       "    <tr>\n",
       "      <th>3</th>\n",
       "      <td>127</td>\n",
       "      <td>1</td>\n",
       "      <td>76</td>\n",
       "      <td>23.94</td>\n",
       "      <td>100.0</td>\n",
       "      <td>11.50</td>\n",
       "      <td>0</td>\n",
       "      <td>84</td>\n",
       "      <td>1</td>\n",
       "      <td>3</td>\n",
       "    </tr>\n",
       "    <tr>\n",
       "      <th>4</th>\n",
       "      <td>120</td>\n",
       "      <td>0</td>\n",
       "      <td>47</td>\n",
       "      <td>20.20</td>\n",
       "      <td>40.0</td>\n",
       "      <td>15.25</td>\n",
       "      <td>1</td>\n",
       "      <td>94</td>\n",
       "      <td>1</td>\n",
       "      <td>3</td>\n",
       "    </tr>\n",
       "  </tbody>\n",
       "</table>\n",
       "</div>"
      ],
      "text/plain": [
       "   Post Operative Glucose  Sex  Age    BMI  Smoking  Pre Operative Fast  Cort  \\\n",
       "0                     114    1   64  22.49      0.0               13.92     0   \n",
       "1                     140    0   25  21.97      0.0               12.00     1   \n",
       "2                     199    0   53  18.90      0.0               15.00     1   \n",
       "3                     127    1   76  23.94    100.0               11.50     0   \n",
       "4                     120    0   47  20.20     40.0               15.25     1   \n",
       "\n",
       "   Pre Operative Glucose  LV  ASA  \n",
       "0                    111   2    3  \n",
       "1                     85   2    2  \n",
       "2                    106   1    2  \n",
       "3                     84   1    3  \n",
       "4                     94   1    3  "
      ]
     },
     "execution_count": 2,
     "metadata": {},
     "output_type": "execute_result"
    }
   ],
   "source": [
    "# Dataset\n",
    "\n",
    "data = pd.read_csv(\"Blood_Glucose_Dataset.csv\") \n",
    "df = data.copy()\n",
    "df.head(5)"
   ]
  },
  {
   "cell_type": "code",
   "execution_count": 3,
   "id": "ff9dc56c",
   "metadata": {},
   "outputs": [],
   "source": [
    "# Shuffling the dataset\n",
    "df = df.sample(frac = 1, random_state=126)"
   ]
  },
  {
   "cell_type": "markdown",
   "id": "45b6c348",
   "metadata": {},
   "source": [
    "## 2.2 Removing Outliers"
   ]
  },
  {
   "cell_type": "code",
   "execution_count": 4,
   "id": "c005baea",
   "metadata": {},
   "outputs": [],
   "source": [
    "# Instantiating the Local Outlier Factor\n",
    "\n",
    "lof_model = LocalOutlierFactor(n_neighbors=20, contamination=0.02) # 2% of the entries are outliers"
   ]
  },
  {
   "cell_type": "code",
   "execution_count": 5,
   "id": "923ee756",
   "metadata": {},
   "outputs": [
    {
     "data": {
      "text/html": [
       "<style>#sk-container-id-1 {color: black;}#sk-container-id-1 pre{padding: 0;}#sk-container-id-1 div.sk-toggleable {background-color: white;}#sk-container-id-1 label.sk-toggleable__label {cursor: pointer;display: block;width: 100%;margin-bottom: 0;padding: 0.3em;box-sizing: border-box;text-align: center;}#sk-container-id-1 label.sk-toggleable__label-arrow:before {content: \"▸\";float: left;margin-right: 0.25em;color: #696969;}#sk-container-id-1 label.sk-toggleable__label-arrow:hover:before {color: black;}#sk-container-id-1 div.sk-estimator:hover label.sk-toggleable__label-arrow:before {color: black;}#sk-container-id-1 div.sk-toggleable__content {max-height: 0;max-width: 0;overflow: hidden;text-align: left;background-color: #f0f8ff;}#sk-container-id-1 div.sk-toggleable__content pre {margin: 0.2em;color: black;border-radius: 0.25em;background-color: #f0f8ff;}#sk-container-id-1 input.sk-toggleable__control:checked~div.sk-toggleable__content {max-height: 200px;max-width: 100%;overflow: auto;}#sk-container-id-1 input.sk-toggleable__control:checked~label.sk-toggleable__label-arrow:before {content: \"▾\";}#sk-container-id-1 div.sk-estimator input.sk-toggleable__control:checked~label.sk-toggleable__label {background-color: #d4ebff;}#sk-container-id-1 div.sk-label input.sk-toggleable__control:checked~label.sk-toggleable__label {background-color: #d4ebff;}#sk-container-id-1 input.sk-hidden--visually {border: 0;clip: rect(1px 1px 1px 1px);clip: rect(1px, 1px, 1px, 1px);height: 1px;margin: -1px;overflow: hidden;padding: 0;position: absolute;width: 1px;}#sk-container-id-1 div.sk-estimator {font-family: monospace;background-color: #f0f8ff;border: 1px dotted black;border-radius: 0.25em;box-sizing: border-box;margin-bottom: 0.5em;}#sk-container-id-1 div.sk-estimator:hover {background-color: #d4ebff;}#sk-container-id-1 div.sk-parallel-item::after {content: \"\";width: 100%;border-bottom: 1px solid gray;flex-grow: 1;}#sk-container-id-1 div.sk-label:hover label.sk-toggleable__label {background-color: #d4ebff;}#sk-container-id-1 div.sk-serial::before {content: \"\";position: absolute;border-left: 1px solid gray;box-sizing: border-box;top: 0;bottom: 0;left: 50%;z-index: 0;}#sk-container-id-1 div.sk-serial {display: flex;flex-direction: column;align-items: center;background-color: white;padding-right: 0.2em;padding-left: 0.2em;position: relative;}#sk-container-id-1 div.sk-item {position: relative;z-index: 1;}#sk-container-id-1 div.sk-parallel {display: flex;align-items: stretch;justify-content: center;background-color: white;position: relative;}#sk-container-id-1 div.sk-item::before, #sk-container-id-1 div.sk-parallel-item::before {content: \"\";position: absolute;border-left: 1px solid gray;box-sizing: border-box;top: 0;bottom: 0;left: 50%;z-index: -1;}#sk-container-id-1 div.sk-parallel-item {display: flex;flex-direction: column;z-index: 1;position: relative;background-color: white;}#sk-container-id-1 div.sk-parallel-item:first-child::after {align-self: flex-end;width: 50%;}#sk-container-id-1 div.sk-parallel-item:last-child::after {align-self: flex-start;width: 50%;}#sk-container-id-1 div.sk-parallel-item:only-child::after {width: 0;}#sk-container-id-1 div.sk-dashed-wrapped {border: 1px dashed gray;margin: 0 0.4em 0.5em 0.4em;box-sizing: border-box;padding-bottom: 0.4em;background-color: white;}#sk-container-id-1 div.sk-label label {font-family: monospace;font-weight: bold;display: inline-block;line-height: 1.2em;}#sk-container-id-1 div.sk-label-container {text-align: center;}#sk-container-id-1 div.sk-container {/* jupyter's `normalize.less` sets `[hidden] { display: none; }` but bootstrap.min.css set `[hidden] { display: none !important; }` so we also need the `!important` here to be able to override the default hidden behavior on the sphinx rendered scikit-learn.org. See: https://github.com/scikit-learn/scikit-learn/issues/21755 */display: inline-block !important;position: relative;}#sk-container-id-1 div.sk-text-repr-fallback {display: none;}</style><div id=\"sk-container-id-1\" class=\"sk-top-container\"><div class=\"sk-text-repr-fallback\"><pre>LocalOutlierFactor(contamination=0.02)</pre><b>In a Jupyter environment, please rerun this cell to show the HTML representation or trust the notebook. <br />On GitHub, the HTML representation is unable to render, please try loading this page with nbviewer.org.</b></div><div class=\"sk-container\" hidden><div class=\"sk-item\"><div class=\"sk-estimator sk-toggleable\"><input class=\"sk-toggleable__control sk-hidden--visually\" id=\"sk-estimator-id-1\" type=\"checkbox\" checked><label for=\"sk-estimator-id-1\" class=\"sk-toggleable__label sk-toggleable__label-arrow\">LocalOutlierFactor</label><div class=\"sk-toggleable__content\"><pre>LocalOutlierFactor(contamination=0.02)</pre></div></div></div></div></div>"
      ],
      "text/plain": [
       "LocalOutlierFactor(contamination=0.02)"
      ]
     },
     "execution_count": 5,
     "metadata": {},
     "output_type": "execute_result"
    }
   ],
   "source": [
    "# Fitting the LOF\n",
    "lof_model.fit(df)"
   ]
  },
  {
   "cell_type": "code",
   "execution_count": 6,
   "id": "1e615e08",
   "metadata": {},
   "outputs": [],
   "source": [
    "# Predict which of the entries are outliers\n",
    "outlier_labels = lof_model.fit_predict(df)"
   ]
  },
  {
   "cell_type": "code",
   "execution_count": 7,
   "id": "2142e567",
   "metadata": {},
   "outputs": [
    {
     "name": "stdout",
     "output_type": "stream",
     "text": [
      "Outlier Labels:\n",
      "[ 1  1  1  1  1 -1  1  1  1  1  1  1  1  1  1  1  1  1  1  1  1  1  1  1\n",
      "  1  1  1  1  1  1  1  1  1  1  1  1  1  1  1  1  1  1  1  1  1  1  1  1\n",
      "  1  1  1  1  1  1  1  1  1  1  1  1  1  1  1  1 -1  1  1  1  1  1  1  1\n",
      "  1  1  1  1  1  1  1  1  1  1  1  1  1  1  1  1  1  1  1  1  1  1  1  1\n",
      "  1  1  1  1  1  1  1  1  1  1 -1  1  1  1  1  1  1  1  1  1  1  1  1  1\n",
      "  1  1  1  1  1  1  1  1  1  1  1  1  1  1  1  1  1  1  1  1  1  1  1  1\n",
      "  1  1  1  1  1  1  1  1  1  1  1  1  1  1  1  1  1  1  1  1  1  1  1  1\n",
      "  1  1  1  1  1  1  1  1  1  1  1  1  1  1  1 -1  1  1  1  1  1  1  1  1\n",
      "  1  1  1  1  1 -1  1  1  1  1  1  1  1  1  1  1  1  1  1  1  1  1  1  1\n",
      "  1  1  1  1  1  1  1  1  1  1  1  1  1  1  1  1  1  1  1]\n"
     ]
    }
   ],
   "source": [
    "# Display results\n",
    "print(\"Outlier Labels:\")\n",
    "print(outlier_labels)"
   ]
  },
  {
   "cell_type": "code",
   "execution_count": 8,
   "id": "f6f67f60",
   "metadata": {},
   "outputs": [
    {
     "data": {
      "text/plain": [
       "5"
      ]
     },
     "execution_count": 8,
     "metadata": {},
     "output_type": "execute_result"
    }
   ],
   "source": [
    "# How many outliers there are in the dataset\n",
    "How_many_outliers = 0\n",
    "for i in range(0,len(outlier_labels)):\n",
    "    if outlier_labels[i] == -1:\n",
    "        How_many_outliers = How_many_outliers + abs(outlier_labels[i])\n",
    "How_many_outliers"
   ]
  },
  {
   "cell_type": "code",
   "execution_count": 9,
   "id": "854e9157",
   "metadata": {},
   "outputs": [
    {
     "data": {
      "text/plain": [
       "(235, 10)"
      ]
     },
     "execution_count": 9,
     "metadata": {},
     "output_type": "execute_result"
    }
   ],
   "source": [
    "# Shape of dataset before outlier removal\n",
    "df.shape"
   ]
  },
  {
   "cell_type": "code",
   "execution_count": 10,
   "id": "098e0176",
   "metadata": {},
   "outputs": [],
   "source": [
    "# Removing Outliers\n",
    "df_No_Outliers = df[outlier_labels != -1]  # Select rows where the LOF label is not -1 (not an outlier)"
   ]
  },
  {
   "cell_type": "code",
   "execution_count": 11,
   "id": "91814d74",
   "metadata": {},
   "outputs": [
    {
     "data": {
      "text/plain": [
       "(230, 10)"
      ]
     },
     "execution_count": 11,
     "metadata": {},
     "output_type": "execute_result"
    }
   ],
   "source": [
    "# Shape of dataset after outlier removal\n",
    "df_No_Outliers.shape"
   ]
  },
  {
   "cell_type": "markdown",
   "id": "68ec2791",
   "metadata": {},
   "source": [
    "We have created a dataset without outliers"
   ]
  },
  {
   "cell_type": "markdown",
   "id": "eca672f3",
   "metadata": {},
   "source": [
    "## 2.3 Scaling the datasets"
   ]
  },
  {
   "cell_type": "code",
   "execution_count": 12,
   "id": "56ec39c3",
   "metadata": {},
   "outputs": [
    {
     "data": {
      "text/html": [
       "<div>\n",
       "<style scoped>\n",
       "    .dataframe tbody tr th:only-of-type {\n",
       "        vertical-align: middle;\n",
       "    }\n",
       "\n",
       "    .dataframe tbody tr th {\n",
       "        vertical-align: top;\n",
       "    }\n",
       "\n",
       "    .dataframe thead th {\n",
       "        text-align: right;\n",
       "    }\n",
       "</style>\n",
       "<table border=\"1\" class=\"dataframe\">\n",
       "  <thead>\n",
       "    <tr style=\"text-align: right;\">\n",
       "      <th></th>\n",
       "      <th>Sex</th>\n",
       "      <th>Age</th>\n",
       "      <th>BMI</th>\n",
       "      <th>Smoking</th>\n",
       "      <th>Pre Operative Fast</th>\n",
       "      <th>Cort</th>\n",
       "      <th>Pre Operative Glucose</th>\n",
       "      <th>LV</th>\n",
       "      <th>ASA</th>\n",
       "    </tr>\n",
       "  </thead>\n",
       "  <tbody>\n",
       "    <tr>\n",
       "      <th>101</th>\n",
       "      <td>1</td>\n",
       "      <td>49</td>\n",
       "      <td>22.45</td>\n",
       "      <td>47.0</td>\n",
       "      <td>11.33</td>\n",
       "      <td>1</td>\n",
       "      <td>102</td>\n",
       "      <td>1</td>\n",
       "      <td>2</td>\n",
       "    </tr>\n",
       "  </tbody>\n",
       "</table>\n",
       "</div>"
      ],
      "text/plain": [
       "     Sex  Age    BMI  Smoking  Pre Operative Fast  Cort  \\\n",
       "101    1   49  22.45     47.0               11.33     1   \n",
       "\n",
       "     Pre Operative Glucose  LV  ASA  \n",
       "101                    102   1    2  "
      ]
     },
     "execution_count": 12,
     "metadata": {},
     "output_type": "execute_result"
    }
   ],
   "source": [
    "# Defining Ys and Xs\n",
    "Y_df = df['Post Operative Glucose']\n",
    "X_df = df.drop('Post Operative Glucose', axis = 1)\n",
    "X_df.head(1)"
   ]
  },
  {
   "cell_type": "code",
   "execution_count": 13,
   "id": "528ee8ca",
   "metadata": {},
   "outputs": [
    {
     "data": {
      "text/html": [
       "<div>\n",
       "<style scoped>\n",
       "    .dataframe tbody tr th:only-of-type {\n",
       "        vertical-align: middle;\n",
       "    }\n",
       "\n",
       "    .dataframe tbody tr th {\n",
       "        vertical-align: top;\n",
       "    }\n",
       "\n",
       "    .dataframe thead th {\n",
       "        text-align: right;\n",
       "    }\n",
       "</style>\n",
       "<table border=\"1\" class=\"dataframe\">\n",
       "  <thead>\n",
       "    <tr style=\"text-align: right;\">\n",
       "      <th></th>\n",
       "      <th>Sex</th>\n",
       "      <th>Age</th>\n",
       "      <th>BMI</th>\n",
       "      <th>Smoking</th>\n",
       "      <th>Pre Operative Fast</th>\n",
       "      <th>Cort</th>\n",
       "      <th>Pre Operative Glucose</th>\n",
       "      <th>LV</th>\n",
       "      <th>ASA</th>\n",
       "    </tr>\n",
       "  </thead>\n",
       "  <tbody>\n",
       "    <tr>\n",
       "      <th>101</th>\n",
       "      <td>1</td>\n",
       "      <td>49</td>\n",
       "      <td>22.45</td>\n",
       "      <td>47.0</td>\n",
       "      <td>11.33</td>\n",
       "      <td>1</td>\n",
       "      <td>102</td>\n",
       "      <td>1</td>\n",
       "      <td>2</td>\n",
       "    </tr>\n",
       "  </tbody>\n",
       "</table>\n",
       "</div>"
      ],
      "text/plain": [
       "     Sex  Age    BMI  Smoking  Pre Operative Fast  Cort  \\\n",
       "101    1   49  22.45     47.0               11.33     1   \n",
       "\n",
       "     Pre Operative Glucose  LV  ASA  \n",
       "101                    102   1    2  "
      ]
     },
     "execution_count": 13,
     "metadata": {},
     "output_type": "execute_result"
    }
   ],
   "source": [
    "# Defining Ys and Xs\n",
    "Y_df_No_Outliers = df_No_Outliers['Post Operative Glucose']\n",
    "X_df_No_Outliers = df_No_Outliers.drop('Post Operative Glucose', axis = 1)\n",
    "X_df_No_Outliers.head(1)"
   ]
  },
  {
   "cell_type": "code",
   "execution_count": 14,
   "id": "e5e9198e",
   "metadata": {},
   "outputs": [],
   "source": [
    "# Dividing X to numeric and categorical dataframes\n",
    "X_df_num = X_df.drop(columns = ['Sex','Cort', 'LV','ASA'])\n",
    "X_df_cat = X_df[['Sex','Cort', 'LV','ASA']]\n",
    "\n",
    "X_df_No_Outliers_num = X_df_No_Outliers.drop(columns = ['Sex','Cort', 'LV','ASA'])\n",
    "X_df_No_Outlier_cat = X_df_No_Outliers[['Sex','Cort', 'LV','ASA']]"
   ]
  },
  {
   "cell_type": "code",
   "execution_count": 15,
   "id": "f9b72dee",
   "metadata": {},
   "outputs": [],
   "source": [
    "# Standardizing the numeric predictors \n",
    "\n",
    "X_df_num_stand = X_df_num/np.std(X_df_num).values\n",
    "X_df_num_stand_No_Outliers = X_df_No_Outliers_num/np.std(X_df_No_Outliers_num).values"
   ]
  },
  {
   "cell_type": "code",
   "execution_count": 16,
   "id": "902aa9f5",
   "metadata": {},
   "outputs": [],
   "source": [
    "# Concatenating numeric and categorical dataframes\n",
    "\n",
    "X_df_stand  = pd.concat([X_df_num_stand.round(3), X_df_cat], axis =  1)\n",
    "X_df_stand_No_Outliers  = pd.concat([X_df_num_stand_No_Outliers.round(3), X_df_No_Outlier_cat], axis =  1)"
   ]
  },
  {
   "cell_type": "code",
   "execution_count": 17,
   "id": "df33a5f6",
   "metadata": {},
   "outputs": [
    {
     "data": {
      "text/html": [
       "<div>\n",
       "<style scoped>\n",
       "    .dataframe tbody tr th:only-of-type {\n",
       "        vertical-align: middle;\n",
       "    }\n",
       "\n",
       "    .dataframe tbody tr th {\n",
       "        vertical-align: top;\n",
       "    }\n",
       "\n",
       "    .dataframe thead th {\n",
       "        text-align: right;\n",
       "    }\n",
       "</style>\n",
       "<table border=\"1\" class=\"dataframe\">\n",
       "  <thead>\n",
       "    <tr style=\"text-align: right;\">\n",
       "      <th></th>\n",
       "      <th>Age</th>\n",
       "      <th>BMI</th>\n",
       "      <th>Smoking</th>\n",
       "      <th>Pre Operative Fast</th>\n",
       "      <th>Pre Operative Glucose</th>\n",
       "      <th>Sex</th>\n",
       "      <th>Cort</th>\n",
       "      <th>LV</th>\n",
       "      <th>ASA</th>\n",
       "    </tr>\n",
       "  </thead>\n",
       "  <tbody>\n",
       "    <tr>\n",
       "      <th>101</th>\n",
       "      <td>3.346</td>\n",
       "      <td>4.337</td>\n",
       "      <td>1.549</td>\n",
       "      <td>5.791</td>\n",
       "      <td>7.307</td>\n",
       "      <td>1</td>\n",
       "      <td>1</td>\n",
       "      <td>1</td>\n",
       "      <td>2</td>\n",
       "    </tr>\n",
       "    <tr>\n",
       "      <th>220</th>\n",
       "      <td>4.302</td>\n",
       "      <td>5.958</td>\n",
       "      <td>1.647</td>\n",
       "      <td>7.283</td>\n",
       "      <td>7.952</td>\n",
       "      <td>1</td>\n",
       "      <td>0</td>\n",
       "      <td>1</td>\n",
       "      <td>3</td>\n",
       "    </tr>\n",
       "    <tr>\n",
       "      <th>225</th>\n",
       "      <td>4.097</td>\n",
       "      <td>6.105</td>\n",
       "      <td>0.675</td>\n",
       "      <td>5.750</td>\n",
       "      <td>6.949</td>\n",
       "      <td>0</td>\n",
       "      <td>0</td>\n",
       "      <td>1</td>\n",
       "      <td>2</td>\n",
       "    </tr>\n",
       "    <tr>\n",
       "      <th>207</th>\n",
       "      <td>3.892</td>\n",
       "      <td>5.657</td>\n",
       "      <td>0.000</td>\n",
       "      <td>6.731</td>\n",
       "      <td>6.376</td>\n",
       "      <td>1</td>\n",
       "      <td>0</td>\n",
       "      <td>1</td>\n",
       "      <td>3</td>\n",
       "    </tr>\n",
       "    <tr>\n",
       "      <th>188</th>\n",
       "      <td>3.687</td>\n",
       "      <td>5.000</td>\n",
       "      <td>0.000</td>\n",
       "      <td>5.791</td>\n",
       "      <td>6.519</td>\n",
       "      <td>1</td>\n",
       "      <td>0</td>\n",
       "      <td>1</td>\n",
       "      <td>2</td>\n",
       "    </tr>\n",
       "  </tbody>\n",
       "</table>\n",
       "</div>"
      ],
      "text/plain": [
       "       Age    BMI  Smoking  Pre Operative Fast  Pre Operative Glucose  Sex  \\\n",
       "101  3.346  4.337    1.549               5.791                  7.307    1   \n",
       "220  4.302  5.958    1.647               7.283                  7.952    1   \n",
       "225  4.097  6.105    0.675               5.750                  6.949    0   \n",
       "207  3.892  5.657    0.000               6.731                  6.376    1   \n",
       "188  3.687  5.000    0.000               5.791                  6.519    1   \n",
       "\n",
       "     Cort  LV  ASA  \n",
       "101     1   1    2  \n",
       "220     0   1    3  \n",
       "225     0   1    2  \n",
       "207     0   1    3  \n",
       "188     0   1    2  "
      ]
     },
     "execution_count": 17,
     "metadata": {},
     "output_type": "execute_result"
    }
   ],
   "source": [
    "# Displaying the original dataset standarzized\n",
    "X_df_stand.head()"
   ]
  },
  {
   "cell_type": "code",
   "execution_count": 18,
   "id": "ac09dc6e",
   "metadata": {},
   "outputs": [
    {
     "data": {
      "text/html": [
       "<div>\n",
       "<style scoped>\n",
       "    .dataframe tbody tr th:only-of-type {\n",
       "        vertical-align: middle;\n",
       "    }\n",
       "\n",
       "    .dataframe tbody tr th {\n",
       "        vertical-align: top;\n",
       "    }\n",
       "\n",
       "    .dataframe thead th {\n",
       "        text-align: right;\n",
       "    }\n",
       "</style>\n",
       "<table border=\"1\" class=\"dataframe\">\n",
       "  <thead>\n",
       "    <tr style=\"text-align: right;\">\n",
       "      <th></th>\n",
       "      <th>Age</th>\n",
       "      <th>BMI</th>\n",
       "      <th>Smoking</th>\n",
       "      <th>Pre Operative Fast</th>\n",
       "      <th>Pre Operative Glucose</th>\n",
       "      <th>Sex</th>\n",
       "      <th>Cort</th>\n",
       "      <th>LV</th>\n",
       "      <th>ASA</th>\n",
       "    </tr>\n",
       "  </thead>\n",
       "  <tbody>\n",
       "    <tr>\n",
       "      <th>101</th>\n",
       "      <td>3.321</td>\n",
       "      <td>4.427</td>\n",
       "      <td>1.574</td>\n",
       "      <td>5.794</td>\n",
       "      <td>8.838</td>\n",
       "      <td>1</td>\n",
       "      <td>1</td>\n",
       "      <td>1</td>\n",
       "      <td>2</td>\n",
       "    </tr>\n",
       "    <tr>\n",
       "      <th>220</th>\n",
       "      <td>4.270</td>\n",
       "      <td>6.081</td>\n",
       "      <td>1.674</td>\n",
       "      <td>7.288</td>\n",
       "      <td>9.618</td>\n",
       "      <td>1</td>\n",
       "      <td>0</td>\n",
       "      <td>1</td>\n",
       "      <td>3</td>\n",
       "    </tr>\n",
       "    <tr>\n",
       "      <th>225</th>\n",
       "      <td>4.067</td>\n",
       "      <td>6.231</td>\n",
       "      <td>0.686</td>\n",
       "      <td>5.753</td>\n",
       "      <td>8.405</td>\n",
       "      <td>0</td>\n",
       "      <td>0</td>\n",
       "      <td>1</td>\n",
       "      <td>2</td>\n",
       "    </tr>\n",
       "    <tr>\n",
       "      <th>207</th>\n",
       "      <td>3.863</td>\n",
       "      <td>5.773</td>\n",
       "      <td>0.000</td>\n",
       "      <td>6.735</td>\n",
       "      <td>7.711</td>\n",
       "      <td>1</td>\n",
       "      <td>0</td>\n",
       "      <td>1</td>\n",
       "      <td>3</td>\n",
       "    </tr>\n",
       "    <tr>\n",
       "      <th>188</th>\n",
       "      <td>3.660</td>\n",
       "      <td>5.103</td>\n",
       "      <td>0.000</td>\n",
       "      <td>5.794</td>\n",
       "      <td>7.885</td>\n",
       "      <td>1</td>\n",
       "      <td>0</td>\n",
       "      <td>1</td>\n",
       "      <td>2</td>\n",
       "    </tr>\n",
       "  </tbody>\n",
       "</table>\n",
       "</div>"
      ],
      "text/plain": [
       "       Age    BMI  Smoking  Pre Operative Fast  Pre Operative Glucose  Sex  \\\n",
       "101  3.321  4.427    1.574               5.794                  8.838    1   \n",
       "220  4.270  6.081    1.674               7.288                  9.618    1   \n",
       "225  4.067  6.231    0.686               5.753                  8.405    0   \n",
       "207  3.863  5.773    0.000               6.735                  7.711    1   \n",
       "188  3.660  5.103    0.000               5.794                  7.885    1   \n",
       "\n",
       "     Cort  LV  ASA  \n",
       "101     1   1    2  \n",
       "220     0   1    3  \n",
       "225     0   1    2  \n",
       "207     0   1    3  \n",
       "188     0   1    2  "
      ]
     },
     "execution_count": 18,
     "metadata": {},
     "output_type": "execute_result"
    }
   ],
   "source": [
    "# Displaying the  dataset without outliers standarzized\n",
    "X_df_stand_No_Outliers.head()"
   ]
  },
  {
   "cell_type": "code",
   "execution_count": 19,
   "id": "3394b77b",
   "metadata": {},
   "outputs": [
    {
     "data": {
      "text/html": [
       "<div>\n",
       "<style scoped>\n",
       "    .dataframe tbody tr th:only-of-type {\n",
       "        vertical-align: middle;\n",
       "    }\n",
       "\n",
       "    .dataframe tbody tr th {\n",
       "        vertical-align: top;\n",
       "    }\n",
       "\n",
       "    .dataframe thead th {\n",
       "        text-align: right;\n",
       "    }\n",
       "</style>\n",
       "<table border=\"1\" class=\"dataframe\">\n",
       "  <thead>\n",
       "    <tr style=\"text-align: right;\">\n",
       "      <th></th>\n",
       "      <th>Age</th>\n",
       "      <th>BMI</th>\n",
       "      <th>Smoking</th>\n",
       "      <th>Pre Operative Fast</th>\n",
       "      <th>Pre Operative Glucose</th>\n",
       "      <th>Sex</th>\n",
       "      <th>Cort</th>\n",
       "      <th>LV</th>\n",
       "      <th>ASA</th>\n",
       "      <th>Post Operative Glucose</th>\n",
       "    </tr>\n",
       "  </thead>\n",
       "  <tbody>\n",
       "    <tr>\n",
       "      <th>101</th>\n",
       "      <td>3.346</td>\n",
       "      <td>4.337</td>\n",
       "      <td>1.549</td>\n",
       "      <td>5.791</td>\n",
       "      <td>7.307</td>\n",
       "      <td>1</td>\n",
       "      <td>1</td>\n",
       "      <td>1</td>\n",
       "      <td>2</td>\n",
       "      <td>129</td>\n",
       "    </tr>\n",
       "  </tbody>\n",
       "</table>\n",
       "</div>"
      ],
      "text/plain": [
       "       Age    BMI  Smoking  Pre Operative Fast  Pre Operative Glucose  Sex  \\\n",
       "101  3.346  4.337    1.549               5.791                  7.307    1   \n",
       "\n",
       "     Cort  LV  ASA  Post Operative Glucose  \n",
       "101     1   1    2                     129  "
      ]
     },
     "execution_count": 19,
     "metadata": {},
     "output_type": "execute_result"
    }
   ],
   "source": [
    "# Concatenating the X and Y\n",
    "df_stand = pd.concat([X_df_stand, Y_df], axis =  1)\n",
    "df_stand.head(1)"
   ]
  },
  {
   "cell_type": "code",
   "execution_count": 20,
   "id": "964944d8",
   "metadata": {},
   "outputs": [
    {
     "data": {
      "text/html": [
       "<div>\n",
       "<style scoped>\n",
       "    .dataframe tbody tr th:only-of-type {\n",
       "        vertical-align: middle;\n",
       "    }\n",
       "\n",
       "    .dataframe tbody tr th {\n",
       "        vertical-align: top;\n",
       "    }\n",
       "\n",
       "    .dataframe thead th {\n",
       "        text-align: right;\n",
       "    }\n",
       "</style>\n",
       "<table border=\"1\" class=\"dataframe\">\n",
       "  <thead>\n",
       "    <tr style=\"text-align: right;\">\n",
       "      <th></th>\n",
       "      <th>Age</th>\n",
       "      <th>BMI</th>\n",
       "      <th>Smoking</th>\n",
       "      <th>Pre Operative Fast</th>\n",
       "      <th>Pre Operative Glucose</th>\n",
       "      <th>Sex</th>\n",
       "      <th>Cort</th>\n",
       "      <th>LV</th>\n",
       "      <th>ASA</th>\n",
       "      <th>Post Operative Glucose</th>\n",
       "    </tr>\n",
       "  </thead>\n",
       "  <tbody>\n",
       "    <tr>\n",
       "      <th>101</th>\n",
       "      <td>3.321</td>\n",
       "      <td>4.427</td>\n",
       "      <td>1.574</td>\n",
       "      <td>5.794</td>\n",
       "      <td>8.838</td>\n",
       "      <td>1</td>\n",
       "      <td>1</td>\n",
       "      <td>1</td>\n",
       "      <td>2</td>\n",
       "      <td>129</td>\n",
       "    </tr>\n",
       "  </tbody>\n",
       "</table>\n",
       "</div>"
      ],
      "text/plain": [
       "       Age    BMI  Smoking  Pre Operative Fast  Pre Operative Glucose  Sex  \\\n",
       "101  3.321  4.427    1.574               5.794                  8.838    1   \n",
       "\n",
       "     Cort  LV  ASA  Post Operative Glucose  \n",
       "101     1   1    2                     129  "
      ]
     },
     "execution_count": 20,
     "metadata": {},
     "output_type": "execute_result"
    }
   ],
   "source": [
    "df_stand_No_Outliers = pd.concat([X_df_stand_No_Outliers, Y_df_No_Outliers], axis =  1)\n",
    "df_stand_No_Outliers.head(1)"
   ]
  },
  {
   "cell_type": "code",
   "execution_count": 21,
   "id": "1ec52164",
   "metadata": {},
   "outputs": [
    {
     "data": {
      "text/plain": [
       "(235, 10)"
      ]
     },
     "execution_count": 21,
     "metadata": {},
     "output_type": "execute_result"
    }
   ],
   "source": [
    "# Checking the shape\n",
    "df_stand.shape"
   ]
  },
  {
   "cell_type": "code",
   "execution_count": 22,
   "id": "3d8df5b2",
   "metadata": {},
   "outputs": [
    {
     "data": {
      "text/plain": [
       "(230, 10)"
      ]
     },
     "execution_count": 22,
     "metadata": {},
     "output_type": "execute_result"
    }
   ],
   "source": [
    "df_stand_No_Outliers.shape"
   ]
  },
  {
   "cell_type": "markdown",
   "id": "04c0947d",
   "metadata": {},
   "source": [
    "## 2.4 Saving the Datasets"
   ]
  },
  {
   "cell_type": "code",
   "execution_count": 23,
   "id": "2485c55c",
   "metadata": {},
   "outputs": [],
   "source": [
    "# Dividing the original dataset to Train and Test Dataset\n",
    "\n",
    "Train_df = df_stand[0:200]\n",
    "Test_df = df_stand[200:]\n",
    "\n",
    "Train_df.to_csv(r'BG_Train_Dataset.csv', index=False)\n",
    "Test_df.to_csv(r'BG_Test_Dataset.csv', index=False)"
   ]
  },
  {
   "cell_type": "code",
   "execution_count": 24,
   "id": "26ff6ee2",
   "metadata": {},
   "outputs": [],
   "source": [
    "# Dividing the dataset without outliers to Train and Test Dataset as to resemble as much as possible the previous ones.\n",
    "\n",
    "Train_df = df_stand_No_Outliers[0:200]\n",
    "Test_df = df_stand_No_Outliers[200:]\n",
    "\n",
    "Train_df.to_csv(r'BG_Train_Dataset_No_Outliers.csv', index=False)\n",
    "Test_df.to_csv(r'BG_Test_Dataset_No_Outliers.csv', index=False)"
   ]
  }
 ],
 "metadata": {
  "kernelspec": {
   "display_name": "Python 3 (ipykernel)",
   "language": "python",
   "name": "python3"
  },
  "language_info": {
   "codemirror_mode": {
    "name": "ipython",
    "version": 3
   },
   "file_extension": ".py",
   "mimetype": "text/x-python",
   "name": "python",
   "nbconvert_exporter": "python",
   "pygments_lexer": "ipython3",
   "version": "3.11.5"
  }
 },
 "nbformat": 4,
 "nbformat_minor": 5
}
